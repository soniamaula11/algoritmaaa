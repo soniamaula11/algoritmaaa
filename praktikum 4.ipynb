{
 "cells": [
  {
   "cell_type": "code",
   "execution_count": 1,
   "id": "d2eced56-3fcb-483a-970c-0200ccd44faf",
   "metadata": {},
   "outputs": [
    {
     "name": "stdout",
     "output_type": "stream",
     "text": [
      "kuulangi  0 kali\n",
      "kuulangi  1 kali\n",
      "kuulangi  2 kali\n",
      "kuulangi  3 kali\n",
      "kuulangi  4 kali\n",
      "kuulangi  5 kali\n",
      "kuulangi  6 kali\n",
      "kuulangi  7 kali\n",
      "kuulangi  8 kali\n",
      "kuulangi  9 kali\n"
     ]
    }
   ],
   "source": [
    "ulangi = 0\n",
    "while (ulangi < 10):\n",
    " print(\"kuulangi \", ulangi, \"kali\")\n",
    " ulangi = ulangi + 1\n"
   ]
  },
  {
   "cell_type": "code",
   "execution_count": 8,
   "id": "eaf94987-c035-4eb2-bcc6-8e4fb473c937",
   "metadata": {},
   "outputs": [
    {
     "name": "stdout",
     "output_type": "stream",
     "text": [
      "nilai i adaalah  0\n",
      "nilai i adaalah  1\n",
      "nilai i adaalah  2\n",
      "nilai i adaalah  3\n",
      "nilai i adaalah  4\n",
      "kuulangi sebanyak  3 kali\n",
      "kuulangi sebanyak  4 kali\n",
      "kuulangi sebanyak  5 kali\n",
      "kuulangi sebanyak  6 kali\n",
      "kuulangi sebanyak  7 kali\n",
      "kuulangi sebanyak  8 kali\n",
      "kuulangi sebanyak  9 kali\n",
      "aku mundur dari 30  30\n",
      "aku mundur dari 30  28\n",
      "aku mundur dari 30  26\n",
      "aku mundur dari 30  24\n",
      "aku mundur dari 30  22\n"
     ]
    }
   ],
   "source": [
    "for i in range(5):\n",
    "    print(\"nilai i adaalah \", i)\n",
    "for i in range(3,10):\n",
    "    print(\"kuulangi sebanyak \", i, \"kali\")\n",
    "for i in range(30,20,-2):\n",
    "    print(\"aku mundur dari 30 \", i)"
   ]
  },
  {
   "cell_type": "code",
   "execution_count": 10,
   "id": "1648890b-c3ac-425b-801a-5f48114626d3",
   "metadata": {},
   "outputs": [
    {
     "name": "stdout",
     "output_type": "stream",
     "text": [
      "7777777\n",
      "666666\n",
      "55555\n",
      "4444\n",
      "333\n",
      "22\n",
      "1\n"
     ]
    }
   ],
   "source": [
    "for i in range (7, 0, -1): # mulai dari 7 hingga 1\n",
    "    print(str(i) * i) #mencetak angka i sebanyak i kali"
   ]
  },
  {
   "cell_type": "code",
   "execution_count": 24,
   "id": "8a9e3bd3-72c3-414f-abc1-e745e747c207",
   "metadata": {},
   "outputs": [
    {
     "name": "stdin",
     "output_type": "stream",
     "text": [
      "masukan bilangan(<enter> untuk keluar) >> 7\n"
     ]
    },
    {
     "name": "stdout",
     "output_type": "stream",
     "text": [
      "7777777\n",
      "666666\n",
      "55555\n",
      "4444\n",
      "333\n",
      "22\n",
      "1\n"
     ]
    }
   ],
   "source": [
    "a = int(input(\"masukan bilangan(<enter> untuk keluar) >>\"))\n",
    "for i in range(a, 0, -1):\n",
    "    for j in range(i):\n",
    "        print(i, end = '')\n",
    "    print()"
   ]
  },
  {
   "cell_type": "code",
   "execution_count": null,
   "id": "7a837191-1c5a-4e6f-b6d6-da9492bed1b2",
   "metadata": {},
   "outputs": [],
   "source": []
  }
 ],
 "metadata": {
  "kernelspec": {
   "display_name": "Python 3 (ipykernel)",
   "language": "python",
   "name": "python3"
  },
  "language_info": {
   "codemirror_mode": {
    "name": "ipython",
    "version": 3
   },
   "file_extension": ".py",
   "mimetype": "text/x-python",
   "name": "python",
   "nbconvert_exporter": "python",
   "pygments_lexer": "ipython3",
   "version": "3.12.4"
  }
 },
 "nbformat": 4,
 "nbformat_minor": 5
}
