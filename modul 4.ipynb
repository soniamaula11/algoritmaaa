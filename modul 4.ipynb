{
 "cells": [
  {
   "cell_type": "code",
   "execution_count": 1,
   "id": "11bd0de7-d361-4bac-83a3-bf06057a371e",
   "metadata": {},
   "outputs": [
    {
     "name": "stdout",
     "output_type": "stream",
     "text": [
      "Masukan -1 jika ingin menghentikan program\n"
     ]
    },
    {
     "name": "stdin",
     "output_type": "stream",
     "text": [
      "Masukan bulan (1-12):  11\n"
     ]
    },
    {
     "name": "stdout",
     "output_type": "stream",
     "text": [
      "Jumlah hari =  30\n",
      "Masukan -1 jika ingin menghentikan program\n"
     ]
    },
    {
     "name": "stdin",
     "output_type": "stream",
     "text": [
      "Masukan bulan (1-12):  -1\n"
     ]
    }
   ],
   "source": [
    "bulan = ''\n",
    "while (bulan != -1):\n",
    "    print(\"Masukan -1 jika ingin menghentikan program\")\n",
    "    bulan = int(input(\"Masukan bulan (1-12): \"))\n",
    "    \n",
    "    if (bulan == 1):\n",
    "        hari = 31\n",
    "        print(\"Jumlah hari = \", hari)\n",
    "    elif(bulan == 2):\n",
    "        tahun = int(input(\"Masukan tahun (e.g., 2021): \"))\n",
    "        if((tahun % 4 == 0 and tahun % 100 != 0) or (tahun % 400 == 0)):\n",
    "            hari = 29\n",
    "        else:\n",
    "            hari = 28\n",
    "        print(\"Jumlah hari = \", hari)\n",
    "    elif(bulan == 3):\n",
    "        hari = 31\n",
    "        print(\"Jumlah hari = \", hari)\n",
    "    elif(bulan == 4):\n",
    "        hari = 30\n",
    "        print(\"Jumlah hari = \", hari)\n",
    "    elif(bulan == 5):\n",
    "        hari = 31\n",
    "        print(\"Jumlah hari = \", hari)\n",
    "    elif(bulan == 6):\n",
    "        hari = 30\n",
    "        print(\"Jumlah hari = \", hari)\n",
    "    elif(bulan == 7):\n",
    "        hari = 31\n",
    "        print(\"Jumlah hari = \", hari)\n",
    "    elif(bulan == 8):\n",
    "        hari = 31\n",
    "        print(\"Jumlah hari = \", hari)\n",
    "    elif(bulan == 9):\n",
    "        hari = 30\n",
    "        print(\"Jumlah hari = \", hari)\n",
    "    elif(bulan == 10):\n",
    "        hari = 31\n",
    "        print(\"Jumlah hari = \", hari)\n",
    "    elif(bulan == 11):\n",
    "        hari = 30\n",
    "        print(\"Jumlah hari = \", hari)\n",
    "    elif(bulan == 12):\n",
    "        hari = 31\n",
    "        print(\"Jumlah hari = \", hari)\n",
    "    else:\n",
    "        if bulan != -1:\n",
    "            print(\"Invalid data\")"
   ]
  },
  {
   "cell_type": "code",
   "execution_count": null,
   "id": "44afed01-467c-404f-8212-26bb037f6af3",
   "metadata": {},
   "outputs": [],
   "source": []
  }
 ],
 "metadata": {
  "kernelspec": {
   "display_name": "Python 3 (ipykernel)",
   "language": "python",
   "name": "python3"
  },
  "language_info": {
   "codemirror_mode": {
    "name": "ipython",
    "version": 3
   },
   "file_extension": ".py",
   "mimetype": "text/x-python",
   "name": "python",
   "nbconvert_exporter": "python",
   "pygments_lexer": "ipython3",
   "version": "3.12.4"
  }
 },
 "nbformat": 4,
 "nbformat_minor": 5
}
